{
 "cells": [
  {
   "cell_type": "markdown",
   "id": "89af0bd7",
   "metadata": {},
   "source": [
    "# How Does Linear Regression works in ML?"
   ]
  },
  {
   "cell_type": "code",
   "execution_count": 1,
   "id": "9ff046df",
   "metadata": {},
   "outputs": [],
   "source": [
    "import random as rand\n",
    "import numpy as np\n",
    "from matplotlib import pyplot as plt"
   ]
  },
  {
   "cell_type": "markdown",
   "id": "ddd56550",
   "metadata": {},
   "source": [
    "# DATASET CONTROLLER"
   ]
  },
  {
   "cell_type": "code",
   "execution_count": 2,
   "id": "1741ed75",
   "metadata": {},
   "outputs": [],
   "source": [
    "#CHANGE Noise to check how points position effects the regression\n",
    "Noise = 70\n",
    "\n",
    "#CHANGE points to increase the sample set of data\n",
    "points = 10"
   ]
  },
  {
   "cell_type": "markdown",
   "id": "36e9c748",
   "metadata": {},
   "source": [
    "# GETTING RANDOM DATA FOR (X, Y):"
   ]
  },
  {
   "cell_type": "code",
   "execution_count": 3,
   "id": "ad781768",
   "metadata": {},
   "outputs": [],
   "source": [
    "X = np.array([i*10 + rand.randint(0, Noise) for i in range(points)])\n",
    "Y = np.array([i*10 + rand.randint(0, Noise) for i in range(points)])"
   ]
  },
  {
   "cell_type": "markdown",
   "id": "c07a7b50",
   "metadata": {},
   "source": [
    "# CALCULATING M and C in ---> y = Mx + c"
   ]
  },
  {
   "cell_type": "code",
   "execution_count": 4,
   "id": "e406cee5",
   "metadata": {},
   "outputs": [
    {
     "data": {
      "text/plain": [
       "0.7124591453819149"
      ]
     },
     "execution_count": 4,
     "metadata": {},
     "output_type": "execute_result"
    }
   ],
   "source": [
    "M = (sum((X - np.mean(X))*(Y - np.mean(Y))) / (sum((X - np.mean(X))**2)))\n",
    "M"
   ]
  },
  {
   "cell_type": "code",
   "execution_count": 5,
   "id": "acae896e",
   "metadata": {},
   "outputs": [
    {
     "data": {
      "text/plain": [
       "13.723399104224676"
      ]
     },
     "execution_count": 5,
     "metadata": {},
     "output_type": "execute_result"
    }
   ],
   "source": [
    "C = np.mean(Y) - M * np.mean(X)\n",
    "C"
   ]
  },
  {
   "cell_type": "markdown",
   "id": "aaa2ce6e",
   "metadata": {},
   "source": [
    "# PREDICT VALUE OF ŷ"
   ]
  },
  {
   "cell_type": "code",
   "execution_count": 6,
   "id": "771fb2af",
   "metadata": {},
   "outputs": [],
   "source": [
    "ŷ = [M*x + C for x in X]"
   ]
  },
  {
   "cell_type": "markdown",
   "id": "83cb62ab",
   "metadata": {},
   "source": [
    "# ERROR in Regression"
   ]
  },
  {
   "cell_type": "code",
   "execution_count": 7,
   "id": "7145eb63",
   "metadata": {},
   "outputs": [
    {
     "data": {
      "text/plain": [
       "0.6425232495749369"
      ]
     },
     "execution_count": 7,
     "metadata": {},
     "output_type": "execute_result"
    }
   ],
   "source": [
    "MSE = (sum((ŷ - np.mean(Y))**2)) / (sum((Y - np.mean(Y))**2))\n",
    "MSE"
   ]
  },
  {
   "cell_type": "code",
   "execution_count": 8,
   "id": "124ff90c",
   "metadata": {},
   "outputs": [
    {
     "data": {
      "text/plain": [
       "21.6008455504018"
      ]
     },
     "execution_count": 8,
     "metadata": {},
     "output_type": "execute_result"
    }
   ],
   "source": [
    "StE = ( (sum((ŷ - Y)**2)) / (len(X)-2) ) **0.5\n",
    "StE"
   ]
  },
  {
   "cell_type": "markdown",
   "id": "2da7ea00",
   "metadata": {},
   "source": [
    "# Plotting the Result"
   ]
  },
  {
   "cell_type": "code",
   "execution_count": 9,
   "id": "8a7d687c",
   "metadata": {},
   "outputs": [
    {
     "data": {
      "image/png": "[encoded data removed]",
      "text/plain": [
       "<Figure size 432x288 with 1 Axes>"
      ]
     },
     "metadata": {
      "needs_background": "light"
     },
     "output_type": "display_data"
    }
   ],
   "source": [
    "plt.scatter(X, Y, color = \"red\")\n",
    "plt.plot(X,ŷ, color = \"black\")\n",
    "plt.xlabel('x - axis')\n",
    "plt.ylabel('y - axis')\n",
    "plt.title(f'LINEAR REGRESSION\\nMSE: {round(MSE, 3)}')\n",
    "plt.show()"
   ]
  },
  {
   "cell_type": "code",
   "execution_count": null,
   "id": "dc1e8e54",
   "metadata": {},
   "outputs": [],
   "source": []
  }
 ],
 "metadata": {
  "kernelspec": {
   "display_name": "Python 3 (ipykernel)",
   "language": "python",
   "name": "python3"
  },
  "language_info": {
   "codemirror_mode": {
    "name": "ipython",
    "version": 3
   },
   "file_extension": ".py",
   "mimetype": "text/x-python",
   "name": "python",
   "nbconvert_exporter": "python",
   "pygments_lexer": "ipython3",
   "version": "3.9.7"
  }
 },
 "nbformat": 4,
 "nbformat_minor": 5
}
