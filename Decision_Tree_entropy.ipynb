{
 "cells": [
  {
   "cell_type": "code",
   "execution_count": 1,
   "id": "87b75b73",
   "metadata": {},
   "outputs": [],
   "source": [
    "import pandas as pd\n",
    "import numpy as np\n",
    "from math import log2\n",
    "from sklearn.metrics import accuracy_score\n",
    "import networkx as nx\n",
    "from treelib import Tree"
   ]
  },
  {
   "cell_type": "code",
   "execution_count": 2,
   "id": "c0bea0ab",
   "metadata": {},
   "outputs": [
    {
     "data": {
      "text/html": [
       "<div>\n",
       "<style scoped>\n",
       "    .dataframe tbody tr th:only-of-type {\n",
       "        vertical-align: middle;\n",
       "    }\n",
       "\n",
       "    .dataframe tbody tr th {\n",
       "        vertical-align: top;\n",
       "    }\n",
       "\n",
       "    .dataframe thead th {\n",
       "        text-align: right;\n",
       "    }\n",
       "</style>\n",
       "<table border=\"1\" class=\"dataframe\">\n",
       "  <thead>\n",
       "    <tr style=\"text-align: right;\">\n",
       "      <th></th>\n",
       "      <th>Outlook</th>\n",
       "      <th>Temperature</th>\n",
       "      <th>Humidity</th>\n",
       "      <th>Wind</th>\n",
       "      <th>Play Tennis</th>\n",
       "    </tr>\n",
       "  </thead>\n",
       "  <tbody>\n",
       "    <tr>\n",
       "      <th>0</th>\n",
       "      <td>Sunny</td>\n",
       "      <td>Hot</td>\n",
       "      <td>High</td>\n",
       "      <td>Weak</td>\n",
       "      <td>No</td>\n",
       "    </tr>\n",
       "    <tr>\n",
       "      <th>1</th>\n",
       "      <td>Sunny</td>\n",
       "      <td>Hot</td>\n",
       "      <td>High</td>\n",
       "      <td>Strong</td>\n",
       "      <td>No</td>\n",
       "    </tr>\n",
       "    <tr>\n",
       "      <th>2</th>\n",
       "      <td>Overcast</td>\n",
       "      <td>Hot</td>\n",
       "      <td>High</td>\n",
       "      <td>Weak</td>\n",
       "      <td>Yes</td>\n",
       "    </tr>\n",
       "    <tr>\n",
       "      <th>3</th>\n",
       "      <td>Rain</td>\n",
       "      <td>Mild</td>\n",
       "      <td>High</td>\n",
       "      <td>Weak</td>\n",
       "      <td>Yes</td>\n",
       "    </tr>\n",
       "    <tr>\n",
       "      <th>4</th>\n",
       "      <td>Rain</td>\n",
       "      <td>Cool</td>\n",
       "      <td>Normal</td>\n",
       "      <td>Weak</td>\n",
       "      <td>Yes</td>\n",
       "    </tr>\n",
       "    <tr>\n",
       "      <th>5</th>\n",
       "      <td>Rain</td>\n",
       "      <td>Cool</td>\n",
       "      <td>Normal</td>\n",
       "      <td>Strong</td>\n",
       "      <td>No</td>\n",
       "    </tr>\n",
       "    <tr>\n",
       "      <th>6</th>\n",
       "      <td>Overcast</td>\n",
       "      <td>Cool</td>\n",
       "      <td>Normal</td>\n",
       "      <td>Strong</td>\n",
       "      <td>Yes</td>\n",
       "    </tr>\n",
       "    <tr>\n",
       "      <th>7</th>\n",
       "      <td>Sunny</td>\n",
       "      <td>Mild</td>\n",
       "      <td>High</td>\n",
       "      <td>Weak</td>\n",
       "      <td>No</td>\n",
       "    </tr>\n",
       "    <tr>\n",
       "      <th>8</th>\n",
       "      <td>Sunny</td>\n",
       "      <td>Cool</td>\n",
       "      <td>Normal</td>\n",
       "      <td>Weak</td>\n",
       "      <td>Yes</td>\n",
       "    </tr>\n",
       "    <tr>\n",
       "      <th>9</th>\n",
       "      <td>Rain</td>\n",
       "      <td>Mild</td>\n",
       "      <td>Normal</td>\n",
       "      <td>Weak</td>\n",
       "      <td>Yes</td>\n",
       "    </tr>\n",
       "    <tr>\n",
       "      <th>10</th>\n",
       "      <td>Sunny</td>\n",
       "      <td>Mild</td>\n",
       "      <td>Normal</td>\n",
       "      <td>Strong</td>\n",
       "      <td>Yes</td>\n",
       "    </tr>\n",
       "    <tr>\n",
       "      <th>11</th>\n",
       "      <td>Overcast</td>\n",
       "      <td>Mild</td>\n",
       "      <td>High</td>\n",
       "      <td>Strong</td>\n",
       "      <td>Yes</td>\n",
       "    </tr>\n",
       "    <tr>\n",
       "      <th>12</th>\n",
       "      <td>Overcast</td>\n",
       "      <td>Hot</td>\n",
       "      <td>Normal</td>\n",
       "      <td>Weak</td>\n",
       "      <td>Yes</td>\n",
       "    </tr>\n",
       "    <tr>\n",
       "      <th>13</th>\n",
       "      <td>Rain</td>\n",
       "      <td>Mild</td>\n",
       "      <td>High</td>\n",
       "      <td>Strong</td>\n",
       "      <td>No</td>\n",
       "    </tr>\n",
       "  </tbody>\n",
       "</table>\n",
       "</div>"
      ],
      "text/plain": [
       "     Outlook Temperature Humidity    Wind Play Tennis\n",
       "0      Sunny         Hot     High    Weak          No\n",
       "1      Sunny         Hot     High  Strong          No\n",
       "2   Overcast         Hot     High    Weak         Yes\n",
       "3       Rain        Mild     High    Weak         Yes\n",
       "4       Rain        Cool   Normal    Weak         Yes\n",
       "5       Rain        Cool   Normal  Strong          No\n",
       "6   Overcast        Cool   Normal  Strong         Yes\n",
       "7      Sunny        Mild     High    Weak          No\n",
       "8      Sunny        Cool   Normal    Weak         Yes\n",
       "9       Rain        Mild   Normal    Weak         Yes\n",
       "10     Sunny        Mild   Normal  Strong         Yes\n",
       "11  Overcast        Mild     High  Strong         Yes\n",
       "12  Overcast         Hot   Normal    Weak         Yes\n",
       "13      Rain        Mild     High  Strong          No"
      ]
     },
     "execution_count": 2,
     "metadata": {},
     "output_type": "execute_result"
    }
   ],
   "source": [
    "df = pd.read_csv(\"PlayTennis.csv\")\n",
    "df"
   ]
  },
  {
   "cell_type": "code",
   "execution_count": 3,
   "id": "04c8fa95",
   "metadata": {},
   "outputs": [],
   "source": [
    "class node:\n",
    "    def __init__(self, data=None,value=None, base=None, b_value=None):\n",
    "        self.data = data\n",
    "        self.child = []\n",
    "        self.value = value\n",
    "        self.b_value = b_value\n",
    "        self.base = base\n",
    "        self.leaf = False\n",
    "    def is_leaf():\n",
    "        return leaf"
   ]
  },
  {
   "cell_type": "code",
   "execution_count": 4,
   "id": "624f2cb0",
   "metadata": {},
   "outputs": [],
   "source": [
    "def best_split(DATA):\n",
    "    S = 0\n",
    "    s_v = []\n",
    "    s_v.append(len(DATA[DATA[\"Play Tennis\" ] == \"Yes\"])/len(DATA))\n",
    "    s_v.append(len(DATA[DATA[\"Play Tennis\" ] == \"No\"])/len(DATA))\n",
    "    for v in s_v:\n",
    "        S -= v * log2(v)\n",
    "    E_C = {}\n",
    "    for c in DATA.drop(\"Play Tennis\", axis=1, inplace=False).columns:\n",
    "        E_C[c] = S\n",
    "        for j in DATA[c].unique():\n",
    "            s_v = []\n",
    "            x = DATA[DATA[c] == j].drop(c, axis=1)\n",
    "            s_v.append(len(x[x[\"Play Tennis\" ] == \"Yes\"])/len(x))\n",
    "            s_v.append(len(x[x[\"Play Tennis\" ] == \"No\"])/len(x))\n",
    "            temp = 0\n",
    "            for v in s_v:\n",
    "                if v != 0:\n",
    "                    temp -= v * log2(v)\n",
    "            E_C[c] -= (len(x)/len(DATA)  * temp)\n",
    "    return max(E_C, key=E_C.get)"
   ]
  },
  {
   "cell_type": "code",
   "execution_count": 5,
   "id": "5233e183",
   "metadata": {},
   "outputs": [],
   "source": [
    "def split(DATA, c):\n",
    "    result = {}\n",
    "    for j in DATA[c].unique():\n",
    "        result[j] = DATA[DATA[c] == j].drop(c, axis=1)\n",
    "    return result"
   ]
  },
  {
   "cell_type": "code",
   "execution_count": 6,
   "id": "daf2afa9",
   "metadata": {},
   "outputs": [],
   "source": [
    "def fit(c_node = node(), step = 0):\n",
    "    if c_node.data[\"Play Tennis\"].nunique() == 1:\n",
    "        c_node.leaf = True\n",
    "        c_node.value = c_node.data[\"Play Tennis\"].unique()[0]\n",
    "        return;\n",
    "    if c_node.data.shape[1] <= 2:\n",
    "        c_node.leaf = True\n",
    "        p = len(c_node.data[c_node.data[\"Play Tennis\"] == \"Yes\"])/len(c_node.data)\n",
    "        if p >= 0.5:\n",
    "            c_node.value = \"Yes\"\n",
    "        else:\n",
    "            c_node.value = \"No\"\n",
    "        return\n",
    "    c = best_split(c_node.data)\n",
    "    x = split(c_node.data, c)\n",
    "    c_node.base = c\n",
    "    for i, d in x.items():\n",
    "        c_node.child.append(node(data=d, b_value=i))\n",
    "    for i in c_node.child:\n",
    "        #print(f\"Height {step+1} data of child based on {i.b_value}:\\n\", i.data, \"\\n\\n\")\n",
    "        fit(i, step+1)"
   ]
  },
  {
   "cell_type": "code",
   "execution_count": 7,
   "id": "b3f78c90",
   "metadata": {},
   "outputs": [],
   "source": [
    "def match(Row):\n",
    "    c_node = root\n",
    "    while(c_node.leaf == False):\n",
    "        for i in c_node.child:\n",
    "            if i.b_value == Row[c_node.base]:\n",
    "                c_node = i\n",
    "                break\n",
    "    return str(c_node.value)"
   ]
  },
  {
   "cell_type": "code",
   "execution_count": 8,
   "id": "53418759",
   "metadata": {},
   "outputs": [],
   "source": [
    "def predict(Data):\n",
    "    Y = Data[\"Play Tennis\"]\n",
    "    ŷ = [match(row) for _, row in Data.iterrows()]\n",
    "    return ŷ,list(Y)"
   ]
  },
  {
   "cell_type": "code",
   "execution_count": 9,
   "id": "8763ef18",
   "metadata": {
    "scrolled": false
   },
   "outputs": [],
   "source": [
    "root = node(data=df)\n",
    "fit(root)"
   ]
  },
  {
   "cell_type": "code",
   "execution_count": 10,
   "id": "6f996448",
   "metadata": {},
   "outputs": [
    {
     "data": {
      "text/plain": [
       "1.0"
      ]
     },
     "execution_count": 10,
     "metadata": {},
     "output_type": "execute_result"
    }
   ],
   "source": [
    "ŷ, Y = predict(df.iloc[: , :])\n",
    "accuracy_score(ŷ, Y)"
   ]
  },
  {
   "cell_type": "code",
   "execution_count": 11,
   "id": "3b19c5f9",
   "metadata": {},
   "outputs": [],
   "source": [
    "def Draw(G, c_node, p_node = None):\n",
    "    if c_node.leaf == True:\n",
    "        v = c_node.b_value\n",
    "        G.add_node(v)\n",
    "        G.add_edge(v, p_node.base)\n",
    "        return\n",
    "    G.add_node(c_node.base)\n",
    "    if(p_node != None):\n",
    "        G.add_edge(c_node.base, p_node.base)\n",
    "    for i in c_node.child:\n",
    "        Draw(G, i, c_node)"
   ]
  },
  {
   "cell_type": "code",
   "execution_count": 12,
   "id": "7d973919",
   "metadata": {},
   "outputs": [
    {
     "data": {
      "image/png": "[encoded data removed]",
      "text/plain": [
       "<Figure size 432x288 with 1 Axes>"
      ]
     },
     "metadata": {},
     "output_type": "display_data"
    }
   ],
   "source": [
    "G = nx.Graph()\n",
    "c_node = root\n",
    "Draw(G, c_node)\n",
    "nx.draw(G, with_labels = 1)"
   ]
  },
  {
   "cell_type": "code",
   "execution_count": 13,
   "id": "d1372165",
   "metadata": {},
   "outputs": [],
   "source": [
    "def draw(c_node, p_node = None):\n",
    "    if c_node.leaf == True:\n",
    "        tree.create_node(c_node.b_value, c_node.b_value, parent=p_node.base)\n",
    "        return\n",
    "    if(p_node != None):\n",
    "        tree.create_node(c_node.base, c_node.base, parent=p_node.base)\n",
    "    else:\n",
    "        tree.create_node(c_node.base, c_node.base)\n",
    "    for i in c_node.child:\n",
    "        draw(i, c_node)"
   ]
  },
  {
   "cell_type": "code",
   "execution_count": 14,
   "id": "c432beea",
   "metadata": {},
   "outputs": [
    {
     "name": "stdout",
     "output_type": "stream",
     "text": [
      "Outlook\n",
      "├── Humidity\n",
      "│   ├── High\n",
      "│   └── Normal\n",
      "├── Overcast\n",
      "└── Wind\n",
      "    ├── Strong\n",
      "    └── Weak\n",
      "\n"
     ]
    }
   ],
   "source": [
    "tree = Tree()\n",
    "c_node = root\n",
    "draw(c_node)\n",
    "tree.show()"
   ]
  },
  {
   "cell_type": "code",
   "execution_count": 15,
   "id": "93c30052",
   "metadata": {
    "scrolled": false
   },
   "outputs": [
    {
     "name": "stdout",
     "output_type": "stream",
     "text": [
      "for 1th fold acc is :  1.0\n",
      "for 2th fold acc is :  1.0\n",
      "for 3th fold acc is :  1.0\n",
      "for 4th fold acc is :  1.0\n",
      "for 5th fold acc is :  1.0\n",
      "for 6th fold acc is :  1.0\n",
      "for 7th fold acc is :  1.0\n",
      "for 8th fold acc is :  1.0\n",
      "for 9th fold acc is :  1.0\n",
      "for 10th fold acc is :  1.0\n",
      "for 11th fold acc is :  1.0\n",
      "for 12th fold acc is :  1.0\n",
      "for 13th fold acc is :  1.0\n",
      "for 14th fold acc is :  1.0\n"
     ]
    }
   ],
   "source": [
    "for i in range(len(df)):\n",
    "    item = np.split(df, len(df))\n",
    "    pre = item[i]\n",
    "    item.pop(i)\n",
    "    rt = node(data=pd.concat(item))\n",
    "    fit(rt)\n",
    "    ŷ, Y = predict(pre)\n",
    "    print(f\"for {i+1}th fold acc is : \", accuracy_score(ŷ, Y))"
   ]
  },
  {
   "cell_type": "code",
   "execution_count": null,
   "id": "abf7c7d5",
   "metadata": {},
   "outputs": [],
   "source": []
  }
 ],
 "metadata": {
  "kernelspec": {
   "display_name": "Python 3 (ipykernel)",
   "language": "python",
   "name": "python3"
  },
  "language_info": {
   "codemirror_mode": {
    "name": "ipython",
    "version": 3
   },
   "file_extension": ".py",
   "mimetype": "text/x-python",
   "name": "python",
   "nbconvert_exporter": "python",
   "pygments_lexer": "ipython3",
   "version": "3.9.7"
  }
 },
 "nbformat": 4,
 "nbformat_minor": 5
}
