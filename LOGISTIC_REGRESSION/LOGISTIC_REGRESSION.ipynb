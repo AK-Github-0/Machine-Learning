{
 "cells": [
  {
   "cell_type": "code",
   "execution_count": 1,
   "id": "cfd16441",
   "metadata": {},
   "outputs": [],
   "source": [
    "import numpy as np\n",
    "import random as rand\n",
    "import matplotlib.pyplot as plt\n",
    "import pandas as pd\n",
    "from sklearn.linear_model import LogisticRegression\n",
    "from sklearn.model_selection import train_test_split\n",
    "from sklearn.metrics import accuracy_score"
   ]
  },
  {
   "cell_type": "code",
   "execution_count": 2,
   "id": "8978bca1",
   "metadata": {},
   "outputs": [],
   "source": [
    "def sigmoid(x):\n",
    "    return 1/(1+np.exp(-x))\n",
    "\n",
    "class correct():\n",
    "\n",
    "    def __init__(self, lr=0.0001, n_iters=10001):\n",
    "        self.lr = lr\n",
    "        self.n_iters = n_iters\n",
    "        self.weights = None\n",
    "        self.bias = None\n",
    "\n",
    "    def fit(self, X, y):\n",
    "        n_samples, n_features = X.shape\n",
    "        self.weights = np.zeros(n_features)\n",
    "        self.bias = 0\n",
    "\n",
    "        for _ in range(self.n_iters):\n",
    "            linear_pred = np.dot(X, self.weights) + self.bias\n",
    "            predictions = sigmoid(linear_pred)\n",
    "\n",
    "            dw = (1/n_samples) * np.dot(X.T, (predictions - y))\n",
    "            db = (1/n_samples) * np.sum(predictions-y)\n",
    "\n",
    "            self.weights = self.weights - self.lr*dw\n",
    "            self.bias = self.bias - self.lr*db\n",
    "\n",
    "\n",
    "    def predict(self, X):\n",
    "        linear_pred = np.dot(X, self.weights) + self.bias\n",
    "        y_pred = sigmoid(linear_pred)\n",
    "        class_pred = [0 if y<=0.5 else 1 for y in y_pred]\n",
    "        return class_pred"
   ]
  },
  {
   "cell_type": "code",
   "execution_count": 3,
   "id": "2b942aaa",
   "metadata": {},
   "outputs": [],
   "source": [
    "df = pd.read_csv(\"LogisticRegData.csv\", names=[\"X\", \"Y\", \"Z\"])\n",
    "X = df.drop(\"Z\", axis=1)\n",
    "Y = df[\"Z\"]"
   ]
  },
  {
   "cell_type": "code",
   "execution_count": 4,
   "id": "00ffc4ac",
   "metadata": {},
   "outputs": [],
   "source": [
    "x_train, x_test, y_train, y_test = train_test_split(X, Y, train_size=0.85)"
   ]
  },
  {
   "cell_type": "code",
   "execution_count": 5,
   "id": "795e927c",
   "metadata": {},
   "outputs": [
    {
     "data": {
      "text/plain": [
       "0.5555555555555556"
      ]
     },
     "execution_count": 5,
     "metadata": {},
     "output_type": "execute_result"
    }
   ],
   "source": [
    "lr = LogisticRegression(max_iter=1000)\n",
    "lr.fit(x_train, y_train)\n",
    "y = lr.predict(x_test)\n",
    "accuracy_score(y, y_test)"
   ]
  },
  {
   "cell_type": "code",
   "execution_count": 6,
   "id": "ee5550e7",
   "metadata": {},
   "outputs": [
    {
     "data": {
      "text/plain": [
       "0.3888888888888889"
      ]
     },
     "execution_count": 6,
     "metadata": {},
     "output_type": "execute_result"
    }
   ],
   "source": [
    "w = np.zeros(x_train.shape[1])\n",
    "b = 0\n",
    "lr = 0.0001\n",
    "for epoch in range(10001):\n",
    "    ŷ = np.dot(x_train, w.T) + b\n",
    "    ŷ = np.array([1 if i >=0.5 else 0 for i in ŷ])\n",
    "    dw = np.dot(x_train.T, (ŷ - y_train).T)\n",
    "    db = sum(ŷ - y_train)\n",
    "    \n",
    "    w = w - lr * dw\n",
    "    b = b - lr * db\n",
    "\n",
    "ŷ = np.dot(x_test, w.T) + b\n",
    "ŷ = np.array([1 if i >=0.5 else 0 for i in ŷ])\n",
    "accuracy_score(ŷ, np.array(y_test))"
   ]
  },
  {
   "cell_type": "code",
   "execution_count": 7,
   "id": "edcb7679",
   "metadata": {},
   "outputs": [],
   "source": [
    "x = correct()"
   ]
  },
  {
   "cell_type": "code",
   "execution_count": 8,
   "id": "514b7ccf",
   "metadata": {
    "scrolled": true
   },
   "outputs": [
    {
     "data": {
      "text/plain": [
       "0.5555555555555556"
      ]
     },
     "execution_count": 8,
     "metadata": {},
     "output_type": "execute_result"
    }
   ],
   "source": [
    "x.fit(x_train, y_train)\n",
    "y = x.predict(x_test)\n",
    "accuracy_score(y, y_test)"
   ]
  }
 ],
 "metadata": {
  "kernelspec": {
   "display_name": "Python 3 (ipykernel)",
   "language": "python",
   "name": "python3"
  },
  "language_info": {
   "codemirror_mode": {
    "name": "ipython",
    "version": 3
   },
   "file_extension": ".py",
   "mimetype": "text/x-python",
   "name": "python",
   "nbconvert_exporter": "python",
   "pygments_lexer": "ipython3",
   "version": "3.9.7"
  }
 },
 "nbformat": 4,
 "nbformat_minor": 5
}
